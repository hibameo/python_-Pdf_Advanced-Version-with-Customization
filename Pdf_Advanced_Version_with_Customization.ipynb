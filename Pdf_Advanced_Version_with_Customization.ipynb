{
  "nbformat": 4,
  "nbformat_minor": 0,
  "metadata": {
    "colab": {
      "provenance": [],
      "authorship_tag": "ABX9TyMaLVzewNhQ7YkXx/4Id29H",
      "include_colab_link": true
    },
    "kernelspec": {
      "name": "python3",
      "display_name": "Python 3"
    },
    "language_info": {
      "name": "python"
    }
  },
  "cells": [
    {
      "cell_type": "markdown",
      "metadata": {
        "id": "view-in-github",
        "colab_type": "text"
      },
      "source": [
        "<a href=\"https://colab.research.google.com/github/hibameo/python_-Pdf_Advanced-Version-with-Customization/blob/main/Pdf_Advanced_Version_with_Customization.ipynb\" target=\"_parent\"><img src=\"https://colab.research.google.com/assets/colab-badge.svg\" alt=\"Open In Colab\"/></a>"
      ]
    },
    {
      "cell_type": "code",
      "source": [
        "!pip install reportlab"
      ],
      "metadata": {
        "colab": {
          "base_uri": "https://localhost:8080/"
        },
        "id": "Ap8LrZ1u20tk",
        "outputId": "be99517e-723c-433f-a1d4-444a497eaba0"
      },
      "execution_count": 3,
      "outputs": [
        {
          "output_type": "stream",
          "name": "stdout",
          "text": [
            "Requirement already satisfied: reportlab in /usr/local/lib/python3.11/dist-packages (4.3.1)\n",
            "Requirement already satisfied: pillow>=9.0.0 in /usr/local/lib/python3.11/dist-packages (from reportlab) (11.1.0)\n",
            "Requirement already satisfied: chardet in /usr/local/lib/python3.11/dist-packages (from reportlab) (5.2.0)\n"
          ]
        }
      ]
    },
    {
      "source": [
        "\n",
        "from reportlab.lib.pagesizes import letter\n",
        "from reportlab.pdfgen import canvas\n",
        "\n",
        "def text_to_pdf_advanced(text, filename=\"styled_output.pdf\"):\n",
        "    c = canvas.Canvas(filename, pagesize=letter)\n",
        "    c.setFont(\"Helvetica\", 12)\n",
        "\n",
        "    x, y = 100, 750\n",
        "    for line in text.split(\"\\n\"):\n",
        "        c.drawString(x, y, line)\n",
        "        y -= 20\n",
        "    c.save()\n",
        "    print(f\"PDF saved as {filename}\")\n",
        "\n",
        "user_text = input(\"Enter the text for advanced PDF: \")\n",
        "text_to_pdf_advanced(user_text)"
      ],
      "cell_type": "code",
      "metadata": {
        "colab": {
          "base_uri": "https://localhost:8080/"
        },
        "id": "Yfzme3UL2sv8",
        "outputId": "0dedb4e7-f6b5-46c1-9d91-955df64c64dd"
      },
      "execution_count": 4,
      "outputs": [
        {
          "output_type": "stream",
          "name": "stdout",
          "text": [
            "Enter the text for advanced PDF: my name is hiba\n",
            "PDF saved as styled_output.pdf\n"
          ]
        }
      ]
    }
  ]
}